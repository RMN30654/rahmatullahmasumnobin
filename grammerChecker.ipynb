{
  "nbformat": 4,
  "nbformat_minor": 0,
  "metadata": {
    "colab": {
      "provenance": [],
      "authorship_tag": "ABX9TyMnRsVng5SNYwHRpw13JMXR",
      "include_colab_link": true
    },
    "kernelspec": {
      "name": "python3",
      "display_name": "Python 3"
    },
    "language_info": {
      "name": "python"
    }
  },
  "cells": [
    {
      "cell_type": "markdown",
      "metadata": {
        "id": "view-in-github",
        "colab_type": "text"
      },
      "source": [
        "<a href=\"https://colab.research.google.com/github/RMN30654/rahmatullahmasumnobin/blob/main/grammerChecker.ipynb\" target=\"_parent\"><img src=\"https://colab.research.google.com/assets/colab-badge.svg\" alt=\"Open In Colab\"/></a>"
      ]
    },
    {
      "cell_type": "markdown",
      "source": [
        "ইংরেজি স্বরবর্ণ ব্যঞ্জনবর্ণ পরীক্ষা"
      ],
      "metadata": {
        "id": "VvBGnzND0ahz"
      }
    },
    {
      "cell_type": "code",
      "source": [
        "def vowelOrNot(letter):\n",
        "  vowels = [\"a\", \"e\", \"i\", \"o\", \"u\"]\n",
        "  if letter in vowels:\n",
        "    return \"vowel\"\n",
        "  else :\n",
        "    return \"consonant\""
      ],
      "metadata": {
        "id": "z4Y2MVagReZi"
      },
      "execution_count": null,
      "outputs": []
    },
    {
      "cell_type": "markdown",
      "source": [
        "কর্তার পুরুষ (নাম,মধ্যম,উত্তম), বচন(এক,দুই,বহু) এবং লিঙ্গ (পুং,স্ত্রী,উভ,ক্লীব) নির্ণয়"
      ],
      "metadata": {
        "id": "e-bVhFKpResa"
      }
    },
    {
      "cell_type": "code",
      "source": [
        "####This function checks the person & number of the subjects\n",
        "def personAndNumberOfSubject(sub):\n",
        "  subjectivePronoun = [[],[\"I\",\"We\",\"we\"],[\"You\",\"you\"],[\"He\", \"he\",\"She\", \"she\",\"It\",\"it\",\"They\",\"they\"]]\n",
        "  personNumberGenderOfsubjectivePronoun =  [[\"1st singular common\",\"1st plural common\",\"1st plural common\"],[\"2nd all common\",\"2nd all common\"],[\"3rd singular male\", \"3rd singular male\",\"3rd singular female\", \"3rd singular female\",\"3rd singular clib\",\"3rd singular clib\",\"3rd plural common\",\"3rd plural common\"]]\n",
        "  if sub.endswith(\"one\") or sub.endswith(\"body\"):\n",
        "    return \"3rd singular common\"\n",
        "  for person in range(len(subjectivePronoun)):\n",
        "    if sub in subjectivePronoun[person]:\n",
        "      pngInd = subjectivePronoun[person].index(sub)\n",
        "      break\n",
        "  return personNumberGenderOfsubjectivePronoun[person-1][pngInd]"
      ],
      "metadata": {
        "id": "2De1ES2ylsmR"
      },
      "execution_count": null,
      "outputs": []
    },
    {
      "cell_type": "markdown",
      "source": [
        "কর্তা ও ক্রিয়ার মেলবন্ধন"
      ],
      "metadata": {
        "id": "ZApHVvEYls_1"
      }
    },
    {
      "cell_type": "code",
      "execution_count": null,
      "metadata": {
        "id": "gInJcDQw0AfJ"
      },
      "outputs": [],
      "source": [
        "########This function checks if sub agreements with verb or not #########\n",
        "def subVerbAgreementCheck(sub,verb):\n",
        "  PNG = personAndNumberOfSubject(sub)\n",
        "  perNumGen = PNG.split(\" \")\n",
        "  if  perNumGen[0] == \"3rd\" and  perNumGen[1] == \"singular\" :\n",
        "    if words[1].endswith(\"s\"):\n",
        "      return 1\n",
        "    else :\n",
        "      return 0\n",
        "  else :\n",
        "    if words[1].endswith(\"s\"):\n",
        "        return 0\n",
        "    else :\n",
        "         return 1\n"
      ]
    },
    {
      "cell_type": "markdown",
      "source": [
        "ক্রিয়ার বচন পরিবর্তন"
      ],
      "metadata": {
        "id": "5ALhhaf_1uJs"
      }
    },
    {
      "cell_type": "code",
      "source": [
        "\n",
        "#########This function changes the number of verb#####\n",
        "def changeNumberOfVerb(verb):\n",
        "  if verb.endswith(\"es\"):\n",
        "    esC = verb[-4:-2]\n",
        "    if esC == \"ch\" or esC == \"sh\" or esC[1] == \"s\" or esC[1] == \"x\" or esC[1] == \"z\":\n",
        "      return verb[:-2]\n",
        "    elif esC[1] == \"i\" and vowelOrNot(esC[0])== \"consonant\":    #if verb ends with 'ies' then 'ies' is replaced with 'y'\n",
        "      word = verb.replace(\"ies\",\"y\")\n",
        "      return word\n",
        "    else:\n",
        "      return verb[:-1]\n",
        "  elif verb.endswith(\"s\"):\n",
        "    return verb[:-1]\n",
        "  else:\n",
        "    if verb.endswith(\"y\") and vowelOrNot(verb[-2:-1])== \"consonant\":\n",
        "      return verb.replace(\"y\",\"ies\")\n",
        "    elif verb.endswith(\"s\") or verb.endswith(\"sh\") or verb.endswith(\"ch\")  or verb.endswith(\"x\") or verb.endswith(\"z\"):\n",
        "      return verb+\"es\"\n",
        "    else:\n",
        "      return verb+\"s\"\n",
        "\n"
      ],
      "metadata": {
        "id": "3cqLJh9O0YYa"
      },
      "execution_count": null,
      "outputs": []
    },
    {
      "cell_type": "markdown",
      "source": [
        "মূল অংশ"
      ],
      "metadata": {
        "id": "k_cOGyCL1wQy"
      }
    },
    {
      "cell_type": "code",
      "source": [
        "######################Main program###############\n",
        "print(\"please enter a sentence in present indefinite tense\")\n",
        "sentence = input(\"Input Sentence : \")\n",
        "words = sentence.split(\" \")\n",
        "personAndNumberOfSubject(words[0])\n",
        "SVagree=subVerbAgreementCheck(words[0],words[1])\n",
        "if  SVagree == 1 :\n",
        "  print(\" The sentence is correct \")\n",
        "else :\n",
        "  correctVerb = changeNumberOfVerb(words[1])\n",
        "  NewSen=sentence.replace(words[1],correctVerb)\n",
        "  print(\" The correct sentence is : \" + NewSen)"
      ],
      "metadata": {
        "colab": {
          "base_uri": "https://localhost:8080/"
        },
        "id": "rzR6FP290lIB",
        "outputId": "132de8a0-6ccf-472a-f42a-e74504d414a7"
      },
      "execution_count": null,
      "outputs": [
        {
          "output_type": "stream",
          "name": "stdout",
          "text": [
            "please enter a sentence in present indefinite tense\n",
            "Input Sentence : I aces\n",
            " The correct sentence is : I ace\n"
          ]
        }
      ]
    }
  ]
}